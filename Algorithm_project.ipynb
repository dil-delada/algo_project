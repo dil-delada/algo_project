{
 "cells": [
  {
   "cell_type": "code",
   "execution_count": 15,
   "metadata": {},
   "outputs": [],
   "source": [
    "import numpy as np\n",
    "import pandas as pd\n",
    "import os"
   ]
  },
  {
   "cell_type": "code",
   "execution_count": 24,
   "metadata": {
    "collapsed": true
   },
   "outputs": [],
   "source": [
    "from IPython.display import clear_output"
   ]
  },
  {
   "cell_type": "code",
   "execution_count": 16,
   "metadata": {
    "collapsed": true
   },
   "outputs": [],
   "source": [
    "def evaluate(board):\n",
    "    white_score = 0\n",
    "    black_score = 0\n",
    "    for i in range(8):\n",
    "        for j in range(8):\n",
    "            if board[i][j] == 11:\n",
    "                if j <= 5:\n",
    "                    black_score += 10\n",
    "                if j == 1:\n",
    "                    black_score += 30\n",
    "                black_score += 100\n",
    "            if board[i][j] == 12:\n",
    "                if i < 1 or i > 6 or j < 1 or j > 6:\n",
    "                    black_score -= 30\n",
    "                black_score += 300\n",
    "            if board[i][j] == 14:\n",
    "                black_score += 350\n",
    "            if board[i][j] == 15:\n",
    "                black_score += 500\n",
    "            if board[i][j] == 18:\n",
    "                black_score += 900\n",
    "                \n",
    "            if board[i][j] == 1:\n",
    "                if j >= 4:\n",
    "                    white_score += 10\n",
    "                if j == 7:\n",
    "                    white_score += 30\n",
    "                white_score += 100\n",
    "            if board[i][j] == 2:\n",
    "                if i < 1 or i > 6 or j < 1 or j > 6:\n",
    "                    white_score -= 30\n",
    "                white_score += 300\n",
    "            if board[i][j] == 4:\n",
    "                white_score += 350\n",
    "            if board[i][j] == 5:\n",
    "                white_score += 500\n",
    "            if board[i][j] == 8:\n",
    "                white_score += 900\n",
    "    return (white_score - black_score) / white_score"
   ]
  },
  {
   "cell_type": "code",
   "execution_count": 28,
   "metadata": {
    "collapsed": true
   },
   "outputs": [],
   "source": [
    "def find_best_move(board, Player):\n",
    "    board1 = board.copy()\n",
    "    moves = all_possible_moves(board1, Player)\n",
    "    best_move = moves[0]\n",
    "    max_score = 1000\n",
    "    if Player == 0:\n",
    "        max_score = -1000\n",
    "    for move in moves:\n",
    "        board2 = perform_move(move, Player, board1)\n",
    "        score = evaluate(board2)\n",
    "        if Player:\n",
    "            if score < max_score:\n",
    "                max_score = score\n",
    "                best_move = move\n",
    "        else:\n",
    "            if score > max_score:\n",
    "                max_score = score\n",
    "                best_move = move\n",
    "    return best_move"
   ]
  },
  {
   "cell_type": "code",
   "execution_count": 30,
   "metadata": {
    "collapsed": true
   },
   "outputs": [],
   "source": [
    "# Parser database to files\n",
    "\n",
    "counter = 0\n",
    "directory = \"D://UT//algorithms//project//\"\n",
    "for filename in os.listdir(directory):\n",
    "    counter += 1\n",
    "    fp = open(directory + str(counter) + \".txt\", \"w\")\n",
    "    with open(directory + filename, 'r') as f:\n",
    "        for line in f:\n",
    "            if not (\"[\" in line or len(line) < 3):\n",
    "                fp.write(line)\n",
    "        fp.close()"
   ]
  },
  {
   "cell_type": "code",
   "execution_count": 31,
   "metadata": {
    "collapsed": true
   },
   "outputs": [],
   "source": [
    "# Parser file to array\n",
    "\n",
    "def convert_to_game(s):\n",
    "    moves = []\n",
    "    s = s.split(\"\\n\")\n",
    "    for line in s:\n",
    "        line = line.split(\" \")\n",
    "        for l in line:\n",
    "            l = l.split(\".\")\n",
    "            if len(l) == 1:\n",
    "                if l[0] not in [\"1-0\", \"0-1\", \"1/2-1/2\"]:\n",
    "                    if len(l[0]) > 0:\n",
    "                        moves.append(l[0])\n",
    "            else:\n",
    "                if len(l[1]) > 0:\n",
    "                    moves.append(l[1])\n",
    "    return moves\n",
    "\n",
    "parties = []\n",
    "directory = \"D://UT//algorithms//project//\"\n",
    "for filename in [str(k) + \".txt\" for k in np.arange(1, counter + 1)]:\n",
    "    if filename == '1.txt':\n",
    "        with open(directory + filename, 'r') as f:\n",
    "            s = \"\"\n",
    "            for line in f:\n",
    "                if line[:2] == \"1.\":\n",
    "                    if s:\n",
    "                        parties.append(convert_to_game(s))\n",
    "                    s = line\n",
    "                else:\n",
    "                    s += line\n"
   ]
  },
  {
   "cell_type": "code",
   "execution_count": 22,
   "metadata": {},
   "outputs": [
    {
     "name": "stdout",
     "output_type": "stream",
     "text": [
      "['c4', 'g6', 'd4', 'Nf6', 'Nc3', 'd5', 'cxd5', 'Nxd5', 'e4', 'Nxc3', 'bxc3', 'Bg7', 'Nf3', 'c5', 'Be3', 'Qa5', 'Qd2', 'O-O', 'Rc1', 'Nd7', 'Bd3', 'e5', 'd5', 'b5', 'O-O', 'c4', 'Bb1', 'Qa3', 'Bh6', 'Qd6', 'Bxg7', 'Kxg7', 'Nh4', 'f6', 'Bc2', 'a5', 'Qe3', 'Rf7', 'Bd1', 'Nc5', 'Be2', 'Bd7', 'g3', 'Re8', 'Rfe1', 'Nb7', 'Rb1', 'Qc5', 'Qd2', 'Nd6', 'Bf1', 'Rb8', 'Kh1', 'b4', 'Qe2', 'Rff8', 'Rec1', 'b3', 'Bg2', 'Qa3', 'axb3', 'cxb3', 'c4', 'Qc5', 'f4', 'a4', 'Qd3', 'Rfe8', 'f5', 'Rb4', 'Bf1', 'Reb8', 'fxg6', 'hxg6', 'Nf3', 'a3', 'Re1', 'Rxc4']\n"
     ]
    }
   ],
   "source": [
    "print(parties[0])"
   ]
  },
  {
   "cell_type": "code",
   "execution_count": 2,
   "metadata": {
    "collapsed": true
   },
   "outputs": [],
   "source": [
    "import numpy as np\n",
    "\n",
    "figure = dict()\n",
    "figure['Black Knight1'] = 12\n",
    "figure['White Knight1'] = 2\n",
    "figure['Black Knight2'] = 12\n",
    "figure['White Knight2'] = 2\n",
    "figure['Black Bishop'] = 14\n",
    "figure['White Bishop'] = 4\n",
    "figure['Black Rock1'] = 15\n",
    "figure['White Rock1'] = 5\n",
    "figure['Black Rock2'] = 15\n",
    "figure['White Rock2'] = 5\n",
    "figure['Black Pawn'] = 11\n",
    "figure['White Pawn'] = 1\n",
    "figure['Black King'] = 19\n",
    "figure['White King'] = 9\n",
    "figure['Black Queen'] = 18\n",
    "figure['White Queen'] = 8\n",
    "\n",
    "letter = dict()\n",
    "letter['a'] = 0\n",
    "letter['b'] = 1\n",
    "letter['c'] = 2\n",
    "letter['d'] = 3\n",
    "letter['e'] = 4\n",
    "letter['f'] = 5\n",
    "letter['g'] = 6\n",
    "letter['h'] = 7\n",
    "\n",
    "figure_letter = dict()\n",
    "figure_letter['N'] = 'Knight'\n",
    "figure_letter['K'] = 'King'\n",
    "figure_letter['R'] = 'Rock'\n",
    "figure_letter['Q'] = 'Queen'\n",
    "figure_letter['B'] = 'Bishop'"
   ]
  },
  {
   "cell_type": "code",
   "execution_count": 3,
   "metadata": {},
   "outputs": [
    {
     "name": "stdout",
     "output_type": "stream",
     "text": [
      "[[  5.   1.   0.   0.   0.   0.  11.  15.]\n",
      " [  2.   1.   0.   0.   0.   0.  11.  12.]\n",
      " [  4.   1.   0.   0.   0.   0.  11.  14.]\n",
      " [  8.   1.   0.   0.   0.   0.  11.  18.]\n",
      " [  9.   1.   0.   0.   0.   0.  11.  19.]\n",
      " [  4.   1.   0.   0.   0.   0.  11.  14.]\n",
      " [  2.   1.   0.   0.   0.   0.  11.  12.]\n",
      " [  5.   1.   0.   0.   0.   0.  11.  15.]]\n"
     ]
    }
   ],
   "source": [
    "def initialize_board():\n",
    "    board = np.zeros((8, 8))\n",
    "    for i in range(8):\n",
    "        board[i][1] = figure['White Pawn']\n",
    "        board[i][6] = figure['Black Pawn']\n",
    "    board[0][0] = figure['White Rock1']\n",
    "    board[7][0] = figure['White Rock2']\n",
    "    board[0][7] = figure['Black Rock1']\n",
    "    board[7][7] = figure['Black Rock2']\n",
    "    board[1][0] = figure['White Knight1']\n",
    "    board[6][0] = figure['White Knight2']\n",
    "    board[1][7] = figure['Black Knight1']\n",
    "    board[6][7] = figure['Black Knight2']\n",
    "    board[2][0] = figure['White Bishop']\n",
    "    board[5][0] = figure['White Bishop']\n",
    "    board[2][7] = figure['Black Bishop']\n",
    "    board[5][7] = figure['Black Bishop']\n",
    "    board[3][0] = figure['White Queen']\n",
    "    board[4][0] = figure['White King']\n",
    "    board[3][7] = figure['Black Queen']\n",
    "    board[4][7] = figure['Black King']\n",
    "    return board\n",
    "\n",
    "board = initialize_board()\n",
    "print(board)"
   ]
  },
  {
   "cell_type": "code",
   "execution_count": 4,
   "metadata": {},
   "outputs": [
    {
     "name": "stdout",
     "output_type": "stream",
     "text": [
      "[[  5.   1.   0.   0.   0.   0.  11.  15.]\n",
      " [  2.   1.   0.   0.   0.   0.  11.  12.]\n",
      " [  4.   1.   0.   0.   0.   0.  11.  14.]\n",
      " [  8.   1.   0.   0.   0.   0.  11.  18.]\n",
      " [  9.   0.   0.   1.  11.   0.   0.  19.]\n",
      " [  4.   1.   0.   0.   0.   0.  11.  14.]\n",
      " [  2.   1.   0.   0.   0.   0.  11.  12.]\n",
      " [  5.   1.   0.   0.   0.   0.  11.  15.]]\n"
     ]
    }
   ],
   "source": [
    "def perform_move(move, Player, board):\n",
    "    if True: # move in possible_move\n",
    "        if move[0] in ['N', 'R', 'K', 'B', 'Q']:\n",
    "            if move[0] == 'K':\n",
    "                # King move\n",
    "                if 'x' not in move:\n",
    "                    i = letter[move[1]]\n",
    "                    j = int(move[2]) - 1\n",
    "                else: # King shot\n",
    "                    i = letter[move[2]]\n",
    "                    j = int(move[3]) - 1\n",
    "                for i1 in [-1, 0, 1]:\n",
    "                    for j1 in [-1, 0, 1]:\n",
    "                        if board[min(7, max(0, i + i1))][min(7, max(0, j + j1))] == 10 * Player + 9:\n",
    "                            board[min(7, max(0, i + i1))][min(7, max(0, j + j1))] = 0\n",
    "                board[i][j] = 10 * Player + 9\n",
    "            else:\n",
    "                # Rock move\n",
    "                if move[0] == 'R':\n",
    "                    if 'x' not in move:\n",
    "                        # Need to add if two rocks on one vertical\n",
    "                        if move[2] >= 'a' and move[2] <= 'h':\n",
    "                            i = letter[move[2]]\n",
    "                            j = int(move[3]) - 1\n",
    "                            k = letter[move[1]]\n",
    "                            board[k][j] = 0\n",
    "                            board[i][j] = 10 * Player + 5\n",
    "                        else:\n",
    "                            i = letter[move[1]]\n",
    "                            j = int(move[2]) - 1\n",
    "                            for i1 in range(8):\n",
    "                                if board[i][i1] == 10 * Player + 5:\n",
    "                                    board[i][i1] = 0\n",
    "                                    break\n",
    "                                if board[i1][j] == 10 * Player + 5:\n",
    "                                    board[i1][j] = 10 * Player + 5\n",
    "                                    break\n",
    "                    else:\n",
    "                        if move[2] >= 'a' and move[2] <= 'h':\n",
    "                            i = letter[move[2]]\n",
    "                            j = int(move[3]) - 1\n",
    "                            k = letter[move[1]]\n",
    "                            board[k][j] = 0\n",
    "                            board[i][j] = 10 * Player + 5\n",
    "                        else:\n",
    "                            i = letter[move[1]]\n",
    "                            j = int(move[2]) - 1\n",
    "                            for i1 in range(8):\n",
    "                                if board[i][i1] == 10 * Player + 5:\n",
    "                                    board[i][i1] = 0\n",
    "                                    break\n",
    "                                if board[i1][j] == 10 * Player + 5:\n",
    "                                    board[i1][j] = 10 * Player + 5\n",
    "                                    break\n",
    "                else:\n",
    "                    # Bishop move\n",
    "                    if move[0] == 'B':\n",
    "                        add = int('x' in move)\n",
    "                        i = letter[move[1 + add]]\n",
    "                        j = int(move[2 + add]) - 1\n",
    "                        mod = (i + j) % 2\n",
    "                        for i1 in range(8):\n",
    "                            for j1 in range(8):\n",
    "                                if (i1 + j1) % 2 == mod and board[i1][j1] == 10 * Player + 4:\n",
    "                                    board[i1][j1] = 0\n",
    "                                    break\n",
    "                        board[i][j] = 10 * Player + 4\n",
    "                    else:\n",
    "                        if move[0] == 'N':\n",
    "                            add = int('x' in move)\n",
    "                            i = letter[move[1 + add]]\n",
    "                            j = int(move[2 + add]) - 1\n",
    "                            if move[2 + add] >= 'a' and move[2 + add] <= 'h':\n",
    "                                print(\"OK\")\n",
    "                            else:\n",
    "                                for i1 in range(8):\n",
    "                                    for j1 in range(8):\n",
    "                                        if abs(i - i1) * abs(j - j1) == 2 and board[i1][j1] == 10 * Player + 2:\n",
    "                                            board[i1][j1] = 0\n",
    "                                            break\n",
    "                                board[i][j] = 10 * Player + 2\n",
    "                        else:\n",
    "                            if move[0] == 'Q':\n",
    "                                add = int('x' in move)\n",
    "                                i = letter[move[1 + add]]\n",
    "                                j = int(move[2 + add]) - 1\n",
    "                                for i1 in range(8):\n",
    "                                    for j1 in range(8):\n",
    "                                        if board[i1][j1] == 10 * Player + 8:\n",
    "                                            board[i1][j1] = 0\n",
    "                                            break\n",
    "                                board[i][j] = 10 * Player + 8\n",
    "        else:\n",
    "            # Pawn move\n",
    "            if move[0] in ['a', 'b', 'c', 'd', 'e', 'f', 'g', 'h']:\n",
    "                if 'x' not in move:\n",
    "                    m = int(move[1]) - 1\n",
    "                    board[letter[move[0]]][m] = 10 * Player + 1\n",
    "                    if Player == 0:\n",
    "                        if board[letter[move[0]]][m - 2] == 10 * Player + 1 and not board[letter[move[0]]][m - 1] == 10 * Player + 1:\n",
    "                            board[letter[move[0]]][m - 2] = 0\n",
    "                        else:\n",
    "                            board[letter[move[0]]][m - 1] = 0\n",
    "                    else:\n",
    "                        if board[letter[move[0]]][m + 2] == 10 * Player + 1 and not board[letter[move[0]]][m + 1] == 10 * Player + 1:\n",
    "                                board[letter[move[0]]][m + 2] = 0\n",
    "                        else:\n",
    "                                board[letter[move[0]]][m + 1] = 0\n",
    "                else:\n",
    "                    new_v = int(move[3]) - 1\n",
    "                    new_h = letter[move[2]]\n",
    "                    old_h = letter[move[0]]\n",
    "                    board[new_h][new_v] = 10 * Player + 1\n",
    "                    board[old_h][new_v - 1 + 2 * Player] = 0\n",
    "            else:\n",
    "                if move[0] == '0':\n",
    "                    # Short (two zeros)\n",
    "                    if len(move) < 5:\n",
    "                        i = 7 * Player\n",
    "                        board[7][i] = 0 # Rock\n",
    "                        board[4][i] = 0 # King\n",
    "                        board[5][i] = 10 * Player + 5 # Rock\n",
    "                        board[6][i] = 10 * Player + 9 # King\n",
    "                    # Long\n",
    "                    else:\n",
    "                        i = 7 * Player\n",
    "                        board[0][i] = 0 # Rock\n",
    "                        board[4][i] = 0 # King\n",
    "                        board[3][i] = 10 * Player + 5 # Rock\n",
    "                        board[2][i] = 10 * Player + 9 # King\n",
    "    return board\n",
    "                    \n",
    "board = initialize_board()\n",
    "board = perform_move(\"e4\", 0, board)\n",
    "board = perform_move(\"e5\", 1, board)\n",
    "print(board)"
   ]
  },
  {
   "cell_type": "code",
   "execution_count": 5,
   "metadata": {},
   "outputs": [
    {
     "name": "stdout",
     "output_type": "stream",
     "text": [
      "[[  5.   1.   0.   0.   0.   0.  11.   0.]\n",
      " [  2.   1.   0.   0.   0.   0.  11.  12.]\n",
      " [  4.   1.   0.   4.  14.   0.  11.  19.]\n",
      " [  8.   1.   0.   0.   0.   0.  11.  15.]\n",
      " [  0.   0.   0.   1.  11.   0.   0.   0.]\n",
      " [  5.   1.   0.   0.   0.   0.  11.   0.]\n",
      " [  9.   1.   0.   0.   0.   0.  11.  12.]\n",
      " [  0.   1.   0.   0.   0.   0.  11.  15.]]\n"
     ]
    }
   ],
   "source": [
    "board = initialize_board()\n",
    "board = perform_move(\"e4\", 0, board)\n",
    "board = perform_move(\"e5\", 1, board)\n",
    "board = perform_move(\"Bc4\", 0, board)\n",
    "#print(board)\n",
    "board = perform_move(\"Bc5\", 1, board)\n",
    "#print(board)\n",
    "board = perform_move(\"0-0\", 0, board)\n",
    "# print(board)\n",
    "board = perform_move(\"0-0-0\", 1, board)\n",
    "print(board)"
   ]
  },
  {
   "cell_type": "code",
   "execution_count": 32,
   "metadata": {},
   "outputs": [
    {
     "name": "stdout",
     "output_type": "stream",
     "text": [
      "['Nf3', 'Nf6', 'c4', 'b6', 'b3', 'e6', 'Bb2', 'Bb7', 'e3', 'd5', 'Be2', 'dxc4', 'bxc4']\n"
     ]
    }
   ],
   "source": [
    "play = parties[0]\n",
    "print(play)"
   ]
  },
  {
   "cell_type": "code",
   "execution_count": 50,
   "metadata": {},
   "outputs": [
    {
     "name": "stdout",
     "output_type": "stream",
     "text": [
      "[[  5.   1.   0.   0.   0.   0.  11.  15.]\n",
      " [  2.   1.   0.   0.   0.   0.  11.  12.]\n",
      " [  4.   1.   0.   0.   0.   0.  11.  14.]\n",
      " [  8.   1.   0.   0.   0.   0.  11.  18.]\n",
      " [  9.   1.   0.   0.   0.   0.  11.  19.]\n",
      " [  4.   1.   2.   0.   0.   0.  11.  14.]\n",
      " [  0.   1.   0.   0.   0.   0.  11.  12.]\n",
      " [  5.   1.   0.   0.   0.   0.  11.  15.]]\n"
     ]
    }
   ],
   "source": [
    "board = initialize_board()\n",
    "board = perform_move(play[0], 0, board)\n",
    "print(board)"
   ]
  },
  {
   "cell_type": "code",
   "execution_count": 51,
   "metadata": {},
   "outputs": [
    {
     "name": "stdout",
     "output_type": "stream",
     "text": [
      "[[  5.   1.   0.   0.   0.   0.  11.  15.]\n",
      " [  2.   4.   1.   0.   0.  11.  14.  12.]\n",
      " [  0.   0.   0.   1.   0.   0.  11.   0.]\n",
      " [  8.   1.   0.   0.  11.   0.   0.  18.]\n",
      " [  9.   4.   1.   0.   0.  11.   0.  19.]\n",
      " [  0.   1.   2.   0.   0.  12.  11.  14.]\n",
      " [  0.   1.   0.   0.   0.   0.  11.   0.]\n",
      " [  5.   1.   0.   0.   0.   0.  11.  15.]]\n"
     ]
    }
   ],
   "source": [
    "for i in range(1, 11):\n",
    "    board = perform_move(play[i], i % 2, board)\n",
    "print(board)"
   ]
  },
  {
   "cell_type": "code",
   "execution_count": 52,
   "metadata": {},
   "outputs": [
    {
     "name": "stdout",
     "output_type": "stream",
     "text": [
      "[[  5.   1.   0.   0.   0.   0.  11.  15.]\n",
      " [  2.   4.   1.   0.   0.  11.  14.  12.]\n",
      " [  0.   0.   0.  11.   0.   0.  11.   0.]\n",
      " [  8.   1.   0.   0.   0.   0.   0.  18.]\n",
      " [  9.   4.   1.   0.   0.  11.   0.  19.]\n",
      " [  0.   1.   2.   0.   0.  12.  11.  14.]\n",
      " [  0.   1.   0.   0.   0.   0.  11.   0.]\n",
      " [  5.   1.   0.   0.   0.   0.  11.  15.]]\n"
     ]
    }
   ],
   "source": [
    "board = perform_move(play[11], 1, board)\n",
    "print(board)"
   ]
  },
  {
   "cell_type": "code",
   "execution_count": 13,
   "metadata": {
    "collapsed": true
   },
   "outputs": [],
   "source": [
    "def all_possible_moves(board, Player):\n",
    "    moves = []\n",
    "    diap = np.arange(8)\n",
    "    players = [10 * Player + 1, 10 * Player + 2, 10 * Player + 4, 10 * Player + 5, 10 * Player + 8, 10 * Player + 9]\n",
    "    for i in range(8):\n",
    "        for j in range(8):\n",
    "            if board[i][j] == 10 * Player + 1:\n",
    "                if j + 1 - 2 * Player >= 0 and j + 1 - 2 * Player <= 7 and board[i][j + 1 - 2 * Player] == 0:\n",
    "                    moves.append(chr(ord('a') + i) + str(j + 2 - 2 * Player))\n",
    "                    if j + 2 - 2 * Player >= 0 and j + 2 - 2 * Player <= 7 and board[i][j + 2 - 2 * Player] == 0:\n",
    "                        if j == 1 + 6 * Player:\n",
    "                            moves.append(chr(ord('a') + i) + str(j + 3 - 2 * Player))\n",
    "            if board[i][j] == 10 * Player + 2:\n",
    "                moves = Knight_moves(board, moves, i, j, diap, players)\n",
    "            if board[i][j] == 10 * Player + 4:\n",
    "                moves = Bishop_moves(board, moves, players, i, j)\n",
    "            if board[i][j] == 10 * Player + 5:\n",
    "                moves = Rock_moves(moves, players, i, j, board)\n",
    "            if board[i][j] == 10 * Player + 8:\n",
    "                moves = Rock_moves(moves, players, i, j, board)\n",
    "                moves = Bishop_moves(board, moves, players, i, j)\n",
    "            if board[i][j] == 10 * Player + 9:\n",
    "                for k1 in range(-1, 1):\n",
    "                    for k2 in range(-1, 1):\n",
    "                        if i + k1 in diap and j + k2 in diap and not (k1 == 0 and k2 == 0):\n",
    "                            if board[i + k1][j + k2] not in players:\n",
    "                                if board[i + k1][j + k2] == 0:\n",
    "                                    moves.append(\"K\" + chr(ord('a') + i) + str(j + k2 + 1))\n",
    "                                else:\n",
    "                                    moves.append(\"Kx\" + chr(ord('a') + i) + str(j + k2 + 1))\n",
    "    return moves\n"
   ]
  },
  {
   "cell_type": "code",
   "execution_count": 9,
   "metadata": {
    "collapsed": true
   },
   "outputs": [],
   "source": [
    "def Knight_moves(board, moves, i, j, diap, players):\n",
    "            if i + 2 in diap and j + 1 in diap:\n",
    "                if board[i + 2][j + 1] not in players:\n",
    "                    if board[i + 2][j + 1] == 0:\n",
    "                        moves.append(\"N\" + chr(ord('a') + i + 2) + str(j + 2))\n",
    "                    else:\n",
    "                        moves.append(\"Nx\" + chr(ord('a') + i + 2) + str(j + 2))\n",
    "            if i - 2 in diap and j + 1 in diap:\n",
    "                if board[i - 2][j + 1] not in players:\n",
    "                    if board[i - 2][j + 1] == 0:\n",
    "                        moves.append(\"N\" + chr(ord('a') + i - 2) + str(j + 2))\n",
    "                    else:\n",
    "                        moves.append(\"Nx\" + chr(ord('a') + i - 2) + str(j + 2))\n",
    "            if i + 2 in diap and j - 1 in diap:\n",
    "                if board[i + 2][j - 1] not in players:\n",
    "                    if board[i + 2][j - 1] == 0:\n",
    "                        moves.append(\"N\" + chr(ord('a') + i + 2) + str(j))\n",
    "                    else:\n",
    "                        moves.append(\"Nx\" + chr(ord('a') + i + 2) + str(j))\n",
    "            if i - 2 in diap and j - 1 in diap:\n",
    "                if board[i - 2][j - 1] not in players:\n",
    "                    if board[i - 2][j - 1] == 0:\n",
    "                        moves.append(\"N\" + chr(ord('a') + i - 2) + str(j))\n",
    "                    else:\n",
    "                        moves.append(\"Nx\" + chr(ord('a') + i - 2) + str(j))            \n",
    "            if i + 1 in diap and j + 2 in diap:\n",
    "                if board[i + 1][j + 2] not in players:\n",
    "                    if board[i + 1][j + 2] == 0:\n",
    "                        moves.append(\"N\" + chr(ord('a') + i + 1) + str(j + 3))\n",
    "                    else:\n",
    "                        moves.append(\"Nx\" + chr(ord('a') + i + 1) + str(j + 3))\n",
    "            if i - 1 in diap and j + 2 in diap:\n",
    "                if board[i - 1][j + 2] not in players:\n",
    "                    if board[i - 1][j + 2] == 0:\n",
    "                        moves.append(\"N\" + chr(ord('a') + i - 1) + str(j + 3))\n",
    "                    else:\n",
    "                        moves.append(\"Nx\" + chr(ord('a') + i - 1) + str(j + 3))\n",
    "            if i + 1 in diap and j - 2 in diap:\n",
    "                if board[i + 1][j - 2] not in players:\n",
    "                    if board[i + 1][j - 2] == 0:\n",
    "                        moves.append(\"N\" + chr(ord('a') + i + 1) + str(j - 1))\n",
    "                    else:\n",
    "                        moves.append(\"Nx\" + chr(ord('a') + i + 1) + str(j - 1))\n",
    "            if i - 1 in diap and j - 2 in diap:\n",
    "                if board[i - 1][j - 2] not in players:\n",
    "                    if board[i - 1][j - 2] == 0:\n",
    "                        moves.append(\"N\" + chr(ord('a') + i - 1) + str(j - 1))\n",
    "                    else:\n",
    "                        moves.append(\"Nx\" + chr(ord('a') + i - 1) + str(j - 1))\n",
    "            return moves"
   ]
  },
  {
   "cell_type": "code",
   "execution_count": 7,
   "metadata": {
    "collapsed": true
   },
   "outputs": [],
   "source": [
    "def Bishop_moves(board, moves, players, i, j):\n",
    "    k = 1\n",
    "    while i + k <= 7 and j + k <= 7:\n",
    "        if board[i + k][j + k] not in players:\n",
    "            if board[i + k][j + k] == 0:\n",
    "                moves.append(\"B\" + chr(ord('a') + i + k) + str(j + k + 1))\n",
    "            else:\n",
    "                moves.append(\"Bx\" + chr(ord('a') + i + k) + str(j + k + 1))\n",
    "        else:\n",
    "            break\n",
    "        k += 1\n",
    "    k = 1\n",
    "    while i - k >= 0 and j + k <= 7:\n",
    "        if board[i - k][j + k] not in players:\n",
    "            if board[i - k][j + k] == 0:\n",
    "                moves.append(\"B\" + chr(ord('a') + i - k) + str(j + k + 1))\n",
    "            else:\n",
    "                moves.append(\"Bx\" + chr(ord('a') + i - k) + str(j + k + 1))\n",
    "        else:\n",
    "            break\n",
    "        k += 1\n",
    "    k = 1\n",
    "    while i + k <= 7 and j - k >= 0:\n",
    "        if board[i + k][j - k] not in players:\n",
    "            if board[i + k][j - k] == 0:\n",
    "                moves.append(\"B\" + chr(ord('a') + i + k) + str(j - k + 1))\n",
    "            else:\n",
    "                moves.append(\"Bx\" + chr(ord('a') + i + k) + str(j - k + 1))\n",
    "        else:\n",
    "            break\n",
    "        k += 1\n",
    "    k = 1\n",
    "    while i - k >= 0 and j - k >= 0:\n",
    "        if board[i - k][j - k] not in players:\n",
    "            if board[i - k][j - k] == 0:\n",
    "                moves.append(\"B\" + chr(ord('a') + i - k) + str(j - k + 1))\n",
    "            else:\n",
    "                moves.append(\"Bx\" + chr(ord('a') + i - k) + str(j - k + 1))\n",
    "        else:\n",
    "            break\n",
    "        k += 1\n",
    "    return moves"
   ]
  },
  {
   "cell_type": "code",
   "execution_count": 12,
   "metadata": {
    "collapsed": true
   },
   "outputs": [],
   "source": [
    "def Rock_moves(moves, players, i, j, board):\n",
    "    k = 1\n",
    "    while i + k <= 7:\n",
    "        if board[i + k][j] not in players:\n",
    "            if board[i + k][j] == 0:\n",
    "                moves.append(\"R\" + chr(ord('a') + i + k) + str(j + 1))\n",
    "            else:\n",
    "                moves.append(\"Rx\" + chr(ord('a') + i + k) + str(j + 1))\n",
    "        else:\n",
    "            break\n",
    "        k += 1\n",
    "    k = 1\n",
    "    while i - k >= 0:\n",
    "        if board[i - k][j] not in players:\n",
    "            if board[i - k][j] == 0:\n",
    "                moves.append(\"R\" + chr(ord('a') + i - k) + str(j + 1))\n",
    "            else:\n",
    "                moves.append(\"Rx\" + chr(ord('a') + i - k) + str(j + 1))\n",
    "        else:\n",
    "            break\n",
    "        k += 1\n",
    "    k = 1\n",
    "    while j - k >= 0:\n",
    "        if board[i][j - k] not in players:\n",
    "            if board[i][j - k] == 0:\n",
    "                moves.append(\"R\" + chr(ord('a') + i) + str(j - k + 1))\n",
    "            else:\n",
    "                moves.append(\"Rx\" + chr(ord('a') + i) + str(j - k + 1))\n",
    "        else:\n",
    "            break\n",
    "        k += 1\n",
    "    k = 1\n",
    "    while j + k <= 7:\n",
    "        if board[i][j + k] not in players:\n",
    "            if board[i][j + k] == 0:\n",
    "                moves.append(\"R\" + chr(ord('a') + i) + str(j + k + 1))\n",
    "            else:\n",
    "                moves.append(\"Rx\" + chr(ord('a') + i) + str(j + k + 1))\n",
    "        else:\n",
    "            break\n",
    "        k += 1\n",
    "    return moves"
   ]
  },
  {
   "cell_type": "code",
   "execution_count": 10,
   "metadata": {},
   "outputs": [
    {
     "name": "stdout",
     "output_type": "stream",
     "text": [
      "[[  5.   1.   0.   0.   0.   0.  11.  15.]\n",
      " [  2.   1.   0.   0.   0.   0.  11.  12.]\n",
      " [  4.   1.   0.   0.   0.   0.  11.  14.]\n",
      " [  8.   1.   0.   0.   0.   0.  11.  18.]\n",
      " [  9.   0.   0.   1.  11.   0.   0.  19.]\n",
      " [  4.   1.   0.   0.   0.   0.  11.  14.]\n",
      " [  2.   1.   0.   0.   0.   0.  11.  12.]\n",
      " [  5.   1.   0.   0.   0.   0.  11.  15.]]\n",
      "['a3', 'a4', 'Nc3', 'Na3', 'b3', 'b4', 'c3', 'c4', 'd3', 'd4', 'Be2', 'Bd3', 'Bc4', 'Bb5', 'Ba6', 'f3', 'f4', 'Ne2', 'Nh3', 'Nf3', 'g3', 'g4', 'h3', 'h4']\n"
     ]
    }
   ],
   "source": [
    "board1 = initialize_board()\n",
    "board1 = perform_move(\"e4\", 0, board1)\n",
    "board1 = perform_move(\"e5\", 1, board1)\n",
    "print(board1)\n",
    "print(all_possible_moves(board1, 0))"
   ]
  },
  {
   "cell_type": "code",
   "execution_count": 31,
   "metadata": {},
   "outputs": [
    {
     "name": "stdout",
     "output_type": "stream",
     "text": [
      "[[  5.   1.   0.   0.   0.  12.  11.  15.]\n",
      " [  2.   1.   0.   0.   0.   0.  11.   0.]\n",
      " [  4.   0.   1.   0.   0.   0.  11.  14.]\n",
      " [  8.   1.   0.   0.   0.   0.  11.  18.]\n",
      " [  9.   0.   1.   0.   0.   0.  11.  19.]\n",
      " [  4.   1.   0.   0.   0.  12.  11.  14.]\n",
      " [  2.   1.   0.   0.   0.   0.  11.   0.]\n",
      " [  5.   1.   0.   0.   0.  11.   0.  15.]]\n",
      "Computer moves: h6\n"
     ]
    }
   ],
   "source": [
    "board = initialize_board()\n",
    "print(board)\n",
    "s = \"start\"\n",
    "all_moves = \"\"\n",
    "while s != \"q\":\n",
    "    s = input(\"Your move: \")\n",
    "    all_moves += s\n",
    "    clear_output()\n",
    "    board = perform_move(s, 0, board)\n",
    "    print(board)\n",
    "    ai_move = find_best_move(board, 1)\n",
    "    board = perform_move(ai_move, 1, board)\n",
    "    clear_output()\n",
    "    print(board)\n",
    "    print(\"Computer moves: \" + ai_move)\n",
    "    "
   ]
  },
  {
   "cell_type": "code",
   "execution_count": null,
   "metadata": {
    "collapsed": true
   },
   "outputs": [],
   "source": []
  }
 ],
 "metadata": {
  "kernelspec": {
   "display_name": "Python 3",
   "language": "python",
   "name": "python3"
  },
  "language_info": {
   "codemirror_mode": {
    "name": "ipython",
    "version": 3
   },
   "file_extension": ".py",
   "mimetype": "text/x-python",
   "name": "python",
   "nbconvert_exporter": "python",
   "pygments_lexer": "ipython3",
   "version": "3.6.2"
  }
 },
 "nbformat": 4,
 "nbformat_minor": 2
}
